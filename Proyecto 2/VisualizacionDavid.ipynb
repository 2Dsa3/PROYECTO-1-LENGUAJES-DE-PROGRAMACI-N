{
 "cells": [
  {
   "cell_type": "markdown",
   "metadata": {},
   "source": [
    "# Importación\n"
   ]
  },
  {
   "cell_type": "code",
   "execution_count": 33,
   "metadata": {},
   "outputs": [],
   "source": [
    "import pandas as pd\n",
    "import numpy as np \n",
    "import plotly as ply \n",
    "import openai as openai\n",
    "import keyfile as kf"
   ]
  },
  {
   "cell_type": "code",
   "execution_count": 2,
   "metadata": {},
   "outputs": [],
   "source": [
    "df_RatedFlights = pd.read_csv('rated_flights.csv')\n",
    "\n"
   ]
  },
  {
   "cell_type": "markdown",
   "metadata": {},
   "source": [
    "Los datos presentados corresponden a algunos de los vuelos sucitados entre los años 2002-2024, en el cual se destaca como variable categórica el overall rating el cual ponderiza el rating que las personas le dieron a su experiencia en el check-in, waiting and boarding, in flight y arrival \n",
    "\n",
    "Los únicos datos con un componente \"subjetivo\" son el overall rating y los remarks dentro del reportLink, ya que reflejan la percepción individual de cada experiencia."
   ]
  },
  {
   "cell_type": "markdown",
   "metadata": {},
   "source": [
    "# Limpieza"
   ]
  },
  {
   "cell_type": "markdown",
   "metadata": {},
   "source": [
    "Los datos ingresados manualmente se validan antes de incluirse en el reporte, verificando aerolíneas y ciudades según sus códigos. Además, el formato se asegura automáticamente mediante un formulario con validación en tiempo real"
   ]
  },
  {
   "cell_type": "code",
   "execution_count": 3,
   "metadata": {},
   "outputs": [
    {
     "name": "stdout",
     "output_type": "stream",
     "text": [
      "Date             0\n",
      "Airline          0\n",
      "Departure        0\n",
      "Arrival          0\n",
      "OverallRating    0\n",
      "ReportLink       0\n",
      "dtype: int64\n"
     ]
    }
   ],
   "source": [
    "nans= df_RatedFlights.isnull().sum()\n",
    "print(nans)\n",
    "\n",
    "#no missing values in the dataset"
   ]
  },
  {
   "cell_type": "code",
   "execution_count": 4,
   "metadata": {},
   "outputs": [
    {
     "name": "stdout",
     "output_type": "stream",
     "text": [
      "0\n"
     ]
    }
   ],
   "source": [
    "duplicates= df_RatedFlights.duplicated()\n",
    "\n",
    "print(duplicates.sum())\n",
    "\n",
    "#no duplicates in the dataset"
   ]
  },
  {
   "cell_type": "markdown",
   "metadata": {},
   "source": [
    "# EDA"
   ]
  },
  {
   "cell_type": "markdown",
   "metadata": {},
   "source": [
    "Existencia de vuelos que partan de una ciudad y regresen a la misma"
   ]
  },
  {
   "cell_type": "code",
   "execution_count": 5,
   "metadata": {},
   "outputs": [
    {
     "name": "stdout",
     "output_type": "stream",
     "text": [
      "vuelos de origen y destino igual: 9\n"
     ]
    }
   ],
   "source": [
    "sameDepArrFlights= df_RatedFlights['Departure'] == df_RatedFlights['Arrival']\n",
    "print(\"vuelos de origen y destino igual:\",sameDepArrFlights.sum())"
   ]
  },
  {
   "cell_type": "code",
   "execution_count": 6,
   "metadata": {},
   "outputs": [
    {
     "data": {
      "text/html": [
       "<div>\n",
       "<style scoped>\n",
       "    .dataframe tbody tr th:only-of-type {\n",
       "        vertical-align: middle;\n",
       "    }\n",
       "\n",
       "    .dataframe tbody tr th {\n",
       "        vertical-align: top;\n",
       "    }\n",
       "\n",
       "    .dataframe thead th {\n",
       "        text-align: right;\n",
       "    }\n",
       "</style>\n",
       "<table border=\"1\" class=\"dataframe\">\n",
       "  <thead>\n",
       "    <tr style=\"text-align: right;\">\n",
       "      <th></th>\n",
       "      <th>Date</th>\n",
       "      <th>Airline</th>\n",
       "      <th>Departure</th>\n",
       "      <th>Arrival</th>\n",
       "      <th>OverallRating</th>\n",
       "      <th>ReportLink</th>\n",
       "    </tr>\n",
       "  </thead>\n",
       "  <tbody>\n",
       "    <tr>\n",
       "      <th>688</th>\n",
       "      <td>25/05/2022</td>\n",
       "      <td>Sundair</td>\n",
       "      <td>DRSDresden Klotzsche Airport</td>\n",
       "      <td>DRSDresden Klotzsche Airport</td>\n",
       "      <td>10</td>\n",
       "      <td>../flightlog/report_545086_Sundair_1960.htm</td>\n",
       "    </tr>\n",
       "    <tr>\n",
       "      <th>701</th>\n",
       "      <td>18/04/2022</td>\n",
       "      <td>Sundair</td>\n",
       "      <td>LEJLeipzig</td>\n",
       "      <td>LEJLeipzig</td>\n",
       "      <td>8</td>\n",
       "      <td>../flightlog/report_542960_Sundair_8796.htm</td>\n",
       "    </tr>\n",
       "    <tr>\n",
       "      <th>756</th>\n",
       "      <td>05/02/2022</td>\n",
       "      <td>Air New Zealand</td>\n",
       "      <td>AKLAuckland Auckland International Airport</td>\n",
       "      <td>AKLAuckland Auckland International Airport</td>\n",
       "      <td>10</td>\n",
       "      <td>../flightlog/report_537770_Air New Zealand_601...</td>\n",
       "    </tr>\n",
       "    <tr>\n",
       "      <th>760</th>\n",
       "      <td>19/01/2022</td>\n",
       "      <td>Air New Zealand</td>\n",
       "      <td>VCVVictorville George AFB - USA California</td>\n",
       "      <td>VCVVictorville George AFB - USA California</td>\n",
       "      <td>10</td>\n",
       "      <td>../flightlog/report_536960_Air New Zealand_600...</td>\n",
       "    </tr>\n",
       "    <tr>\n",
       "      <th>821</th>\n",
       "      <td>16/10/2021</td>\n",
       "      <td>Danish Air Transport</td>\n",
       "      <td>CPHCopenhagen Kastrup</td>\n",
       "      <td>CPHCopenhagen Kastrup</td>\n",
       "      <td>10</td>\n",
       "      <td>../flightlog/report_530715_Danish Air Transpor...</td>\n",
       "    </tr>\n",
       "    <tr>\n",
       "      <th>970</th>\n",
       "      <td>07/11/2020</td>\n",
       "      <td>Eurowings</td>\n",
       "      <td>TXLBerlin Tegel</td>\n",
       "      <td>TXLBerlin Tegel</td>\n",
       "      <td>8</td>\n",
       "      <td>../flightlog/report_508926_Eurowings_5237.htm</td>\n",
       "    </tr>\n",
       "    <tr>\n",
       "      <th>1735</th>\n",
       "      <td>04/03/2017</td>\n",
       "      <td>Delta Air Lines</td>\n",
       "      <td>ATLAtlanta Hartsfield Jackson International - ...</td>\n",
       "      <td>ATLAtlanta Hartsfield Jackson International - ...</td>\n",
       "      <td>9</td>\n",
       "      <td>../flightlog/report_389510_Delta Air Lines_31.htm</td>\n",
       "    </tr>\n",
       "    <tr>\n",
       "      <th>2264</th>\n",
       "      <td>11/11/2014</td>\n",
       "      <td>KLM</td>\n",
       "      <td>AMSAmsterdam Schiphol</td>\n",
       "      <td>AMSAmsterdam Schiphol</td>\n",
       "      <td>10</td>\n",
       "      <td>../flightlog/report_339228_KLM_9895.htm</td>\n",
       "    </tr>\n",
       "    <tr>\n",
       "      <th>3031</th>\n",
       "      <td>26/11/2010</td>\n",
       "      <td>KLM</td>\n",
       "      <td>AMSAmsterdam Schiphol</td>\n",
       "      <td>AMSAmsterdam Schiphol</td>\n",
       "      <td>8</td>\n",
       "      <td>../flightlog/report_391038_KLM_803.htm</td>\n",
       "    </tr>\n",
       "  </tbody>\n",
       "</table>\n",
       "</div>"
      ],
      "text/plain": [
       "            Date               Airline  \\\n",
       "688   25/05/2022               Sundair   \n",
       "701   18/04/2022               Sundair   \n",
       "756   05/02/2022       Air New Zealand   \n",
       "760   19/01/2022       Air New Zealand   \n",
       "821   16/10/2021  Danish Air Transport   \n",
       "970   07/11/2020             Eurowings   \n",
       "1735  04/03/2017       Delta Air Lines   \n",
       "2264  11/11/2014                   KLM   \n",
       "3031  26/11/2010                   KLM   \n",
       "\n",
       "                                              Departure  \\\n",
       "688                       DRSDresden Klotzsche Airport    \n",
       "701                                        LEJLeipzig     \n",
       "756         AKLAuckland Auckland International Airport    \n",
       "760          VCVVictorville George AFB - USA California   \n",
       "821                              CPHCopenhagen Kastrup    \n",
       "970                                    TXLBerlin Tegel    \n",
       "1735  ATLAtlanta Hartsfield Jackson International - ...   \n",
       "2264                             AMSAmsterdam Schiphol    \n",
       "3031                             AMSAmsterdam Schiphol    \n",
       "\n",
       "                                                Arrival  OverallRating  \\\n",
       "688                       DRSDresden Klotzsche Airport              10   \n",
       "701                                        LEJLeipzig                8   \n",
       "756         AKLAuckland Auckland International Airport              10   \n",
       "760          VCVVictorville George AFB - USA California             10   \n",
       "821                              CPHCopenhagen Kastrup              10   \n",
       "970                                    TXLBerlin Tegel               8   \n",
       "1735  ATLAtlanta Hartsfield Jackson International - ...              9   \n",
       "2264                             AMSAmsterdam Schiphol              10   \n",
       "3031                             AMSAmsterdam Schiphol               8   \n",
       "\n",
       "                                             ReportLink  \n",
       "688         ../flightlog/report_545086_Sundair_1960.htm  \n",
       "701         ../flightlog/report_542960_Sundair_8796.htm  \n",
       "756   ../flightlog/report_537770_Air New Zealand_601...  \n",
       "760   ../flightlog/report_536960_Air New Zealand_600...  \n",
       "821   ../flightlog/report_530715_Danish Air Transpor...  \n",
       "970       ../flightlog/report_508926_Eurowings_5237.htm  \n",
       "1735  ../flightlog/report_389510_Delta Air Lines_31.htm  \n",
       "2264            ../flightlog/report_339228_KLM_9895.htm  \n",
       "3031             ../flightlog/report_391038_KLM_803.htm  "
      ]
     },
     "execution_count": 6,
     "metadata": {},
     "output_type": "execute_result"
    }
   ],
   "source": [
    "df_RatedFlights[sameDepArrFlights]"
   ]
  },
  {
   "cell_type": "markdown",
   "metadata": {},
   "source": [
    "Se descartan, pues, carecen de confiabilidad"
   ]
  },
  {
   "cell_type": "code",
   "execution_count": 7,
   "metadata": {},
   "outputs": [],
   "source": [
    "df_RatedFlights.drop(df_RatedFlights[sameDepArrFlights].index, inplace=True)"
   ]
  },
  {
   "cell_type": "markdown",
   "metadata": {},
   "source": [
    "Análisis de las aerolineas en el dataframe"
   ]
  },
  {
   "cell_type": "code",
   "execution_count": 8,
   "metadata": {},
   "outputs": [
    {
     "name": "stdout",
     "output_type": "stream",
     "text": [
      "hay 313 aerolineas registradas\n"
     ]
    }
   ],
   "source": [
    "uniqueArilines = df_RatedFlights[\"Airline\"].unique()\n",
    "\n",
    "print(f\"hay {uniqueArilines.size} aerolineas registradas\")"
   ]
  },
  {
   "cell_type": "code",
   "execution_count": 36,
   "metadata": {},
   "outputs": [],
   "source": [
    "#convertimos en csv el uniqueArilines\n",
    "# uniqueArilines.sort()\n",
    "# df_Airlines = pd.DataFrame(uniqueArilines, columns=['Airline'])\n",
    "# df_Airlines.to_csv('airlines.csv', index=False)\n"
   ]
  },
  {
   "cell_type": "markdown",
   "metadata": {},
   "source": [
    "Obtenemos los paises de los que son cada una de las aerolineas puesto que es una variable que puede influir en el OverallRating"
   ]
  },
  {
   "cell_type": "code",
   "execution_count": 39,
   "metadata": {},
   "outputs": [
    {
     "data": {
      "text/html": [
       "<div>\n",
       "<style scoped>\n",
       "    .dataframe tbody tr th:only-of-type {\n",
       "        vertical-align: middle;\n",
       "    }\n",
       "\n",
       "    .dataframe tbody tr th {\n",
       "        vertical-align: top;\n",
       "    }\n",
       "\n",
       "    .dataframe thead th {\n",
       "        text-align: right;\n",
       "    }\n",
       "</style>\n",
       "<table border=\"1\" class=\"dataframe\">\n",
       "  <thead>\n",
       "    <tr style=\"text-align: right;\">\n",
       "      <th></th>\n",
       "      <th>Date</th>\n",
       "      <th>Airline</th>\n",
       "      <th>Departure</th>\n",
       "      <th>Arrival</th>\n",
       "      <th>OverallRating</th>\n",
       "      <th>ReportLink</th>\n",
       "      <th>Country_Airline</th>\n",
       "    </tr>\n",
       "  </thead>\n",
       "  <tbody>\n",
       "    <tr>\n",
       "      <th>0</th>\n",
       "      <td>19/01/2025</td>\n",
       "      <td>LATAM Brasil</td>\n",
       "      <td>NATNatal Greater Natal International Airport</td>\n",
       "      <td>GRUSao Paulo Guarulhos Int'l</td>\n",
       "      <td>7</td>\n",
       "      <td>../flightlog/report_625375_LATAM Brasil_3443.htm</td>\n",
       "      <td>Brasil</td>\n",
       "    </tr>\n",
       "    <tr>\n",
       "      <th>1</th>\n",
       "      <td>13/01/2025</td>\n",
       "      <td>KLM</td>\n",
       "      <td>BCNBarcelona El Prat</td>\n",
       "      <td>AMSAmsterdam Schiphol</td>\n",
       "      <td>8</td>\n",
       "      <td>../flightlog/report_624841_KLM_1518.htm</td>\n",
       "      <td>Países Bajos</td>\n",
       "    </tr>\n",
       "    <tr>\n",
       "      <th>2</th>\n",
       "      <td>11/01/2025</td>\n",
       "      <td>Azul Linhas Aereas</td>\n",
       "      <td>SSASalvador Deputado Luís Eduardo Magalhães In...</td>\n",
       "      <td>RECRecife Guararapes - Gilberto Freyre Int'l</td>\n",
       "      <td>10</td>\n",
       "      <td>../flightlog/report_625374_Azul Linhas Aereas_...</td>\n",
       "      <td>Brasil</td>\n",
       "    </tr>\n",
       "    <tr>\n",
       "      <th>3</th>\n",
       "      <td>09/01/2025</td>\n",
       "      <td>Garuda</td>\n",
       "      <td>SINSingapore Changi</td>\n",
       "      <td>CGKJakarta Soekarno - Hatta</td>\n",
       "      <td>9</td>\n",
       "      <td>../flightlog/report_624575_Garuda_839.htm</td>\n",
       "      <td>Indonesia</td>\n",
       "    </tr>\n",
       "    <tr>\n",
       "      <th>4</th>\n",
       "      <td>08/01/2025</td>\n",
       "      <td>Azul Linhas Aereas</td>\n",
       "      <td>GRUSao Paulo Guarulhos Int'l</td>\n",
       "      <td>IOSIlheus</td>\n",
       "      <td>10</td>\n",
       "      <td>../flightlog/report_625373_Azul Linhas Aereas_...</td>\n",
       "      <td>Brasil</td>\n",
       "    </tr>\n",
       "    <tr>\n",
       "      <th>...</th>\n",
       "      <td>...</td>\n",
       "      <td>...</td>\n",
       "      <td>...</td>\n",
       "      <td>...</td>\n",
       "      <td>...</td>\n",
       "      <td>...</td>\n",
       "      <td>...</td>\n",
       "    </tr>\n",
       "    <tr>\n",
       "      <th>3095</th>\n",
       "      <td>25/05/2003</td>\n",
       "      <td>DutchBird</td>\n",
       "      <td>LPALas Palmas De Gran Canaria Gando</td>\n",
       "      <td>AMSAmsterdam Schiphol</td>\n",
       "      <td>7</td>\n",
       "      <td>../flightlog/report_221289_DutchBird_902.htm</td>\n",
       "      <td>Países Bajos</td>\n",
       "    </tr>\n",
       "    <tr>\n",
       "      <th>3096</th>\n",
       "      <td>12/05/2003</td>\n",
       "      <td>DutchBird</td>\n",
       "      <td>AMSAmsterdam Schiphol</td>\n",
       "      <td>LPALas Palmas De Gran Canaria Gando</td>\n",
       "      <td>6</td>\n",
       "      <td>../flightlog/report_221286_DutchBird_901.htm</td>\n",
       "      <td>Países Bajos</td>\n",
       "    </tr>\n",
       "    <tr>\n",
       "      <th>3097</th>\n",
       "      <td>12/05/2003</td>\n",
       "      <td>DutchBird</td>\n",
       "      <td>LPALas Palmas De Gran Canaria Gando</td>\n",
       "      <td>FORFortaleza Pinto Martins</td>\n",
       "      <td>7</td>\n",
       "      <td>../flightlog/report_221287_DutchBird_901.htm</td>\n",
       "      <td>Países Bajos</td>\n",
       "    </tr>\n",
       "    <tr>\n",
       "      <th>3098</th>\n",
       "      <td>07/02/2003</td>\n",
       "      <td>IrAero</td>\n",
       "      <td>CGKJakarta Soekarno - Hatta</td>\n",
       "      <td>SUBSurabaya Juanda</td>\n",
       "      <td>7</td>\n",
       "      <td>../flightlog/report_339682_IrAero_200.htm</td>\n",
       "      <td>Rusia</td>\n",
       "    </tr>\n",
       "    <tr>\n",
       "      <th>3099</th>\n",
       "      <td>05/10/2002</td>\n",
       "      <td>Thomas Cook (Condor)</td>\n",
       "      <td>CFUKerkyra Corfu</td>\n",
       "      <td>BRUBrussels Brussels</td>\n",
       "      <td>10</td>\n",
       "      <td>../flightlog/report_416581_Thomas Cook (Condor...</td>\n",
       "      <td>Alemania</td>\n",
       "    </tr>\n",
       "  </tbody>\n",
       "</table>\n",
       "<p>3091 rows × 7 columns</p>\n",
       "</div>"
      ],
      "text/plain": [
       "            Date               Airline  \\\n",
       "0     19/01/2025          LATAM Brasil   \n",
       "1     13/01/2025                   KLM   \n",
       "2     11/01/2025    Azul Linhas Aereas   \n",
       "3     09/01/2025                Garuda   \n",
       "4     08/01/2025    Azul Linhas Aereas   \n",
       "...          ...                   ...   \n",
       "3095  25/05/2003             DutchBird   \n",
       "3096  12/05/2003             DutchBird   \n",
       "3097  12/05/2003             DutchBird   \n",
       "3098  07/02/2003                IrAero   \n",
       "3099  05/10/2002  Thomas Cook (Condor)   \n",
       "\n",
       "                                              Departure  \\\n",
       "0         NATNatal Greater Natal International Airport    \n",
       "1                                 BCNBarcelona El Prat    \n",
       "2     SSASalvador Deputado Luís Eduardo Magalhães In...   \n",
       "3                                  SINSingapore Changi    \n",
       "4                         GRUSao Paulo Guarulhos Int'l    \n",
       "...                                                 ...   \n",
       "3095               LPALas Palmas De Gran Canaria Gando    \n",
       "3096                             AMSAmsterdam Schiphol    \n",
       "3097               LPALas Palmas De Gran Canaria Gando    \n",
       "3098                       CGKJakarta Soekarno - Hatta    \n",
       "3099                                  CFUKerkyra Corfu    \n",
       "\n",
       "                                            Arrival  OverallRating  \\\n",
       "0                     GRUSao Paulo Guarulhos Int'l               7   \n",
       "1                            AMSAmsterdam Schiphol               8   \n",
       "2     RECRecife Guararapes - Gilberto Freyre Int'l              10   \n",
       "3                      CGKJakarta Soekarno - Hatta               9   \n",
       "4                                       IOSIlheus               10   \n",
       "...                                             ...            ...   \n",
       "3095                         AMSAmsterdam Schiphol               7   \n",
       "3096           LPALas Palmas De Gran Canaria Gando               6   \n",
       "3097                    FORFortaleza Pinto Martins               7   \n",
       "3098                            SUBSurabaya Juanda               7   \n",
       "3099                          BRUBrussels Brussels              10   \n",
       "\n",
       "                                             ReportLink Country_Airline  \n",
       "0      ../flightlog/report_625375_LATAM Brasil_3443.htm          Brasil  \n",
       "1               ../flightlog/report_624841_KLM_1518.htm    Países Bajos  \n",
       "2     ../flightlog/report_625374_Azul Linhas Aereas_...          Brasil  \n",
       "3             ../flightlog/report_624575_Garuda_839.htm       Indonesia  \n",
       "4     ../flightlog/report_625373_Azul Linhas Aereas_...          Brasil  \n",
       "...                                                 ...             ...  \n",
       "3095       ../flightlog/report_221289_DutchBird_902.htm    Países Bajos  \n",
       "3096       ../flightlog/report_221286_DutchBird_901.htm    Países Bajos  \n",
       "3097       ../flightlog/report_221287_DutchBird_901.htm    Países Bajos  \n",
       "3098          ../flightlog/report_339682_IrAero_200.htm           Rusia  \n",
       "3099  ../flightlog/report_416581_Thomas Cook (Condor...        Alemania  \n",
       "\n",
       "[3091 rows x 7 columns]"
      ]
     },
     "execution_count": 39,
     "metadata": {},
     "output_type": "execute_result"
    }
   ],
   "source": [
    "df_Airlines = pd.read_csv('airlines.csv')\n",
    "\n",
    "df_RatedFlights[\"Country_Airline\"] = df_RatedFlights[\"Airline\"].map(df_Airlines.set_index('Airline')['Country'])\n",
    "\n",
    "df_RatedFlights"
   ]
  },
  {
   "cell_type": "code",
   "execution_count": 40,
   "metadata": {},
   "outputs": [
    {
     "ename": "ParserError",
     "evalue": "Error tokenizing data. C error: Expected 5 fields in line 102, saw 6\n",
     "output_type": "error",
     "traceback": [
      "\u001b[1;31m---------------------------------------------------------------------------\u001b[0m",
      "\u001b[1;31mParserError\u001b[0m                               Traceback (most recent call last)",
      "Cell \u001b[1;32mIn[40], line 1\u001b[0m\n\u001b[1;32m----> 1\u001b[0m df_plane_crashes \u001b[38;5;241m=\u001b[39m pd\u001b[38;5;241m.\u001b[39mread_csv(\u001b[38;5;124m'\u001b[39m\u001b[38;5;124mplane_crashes.csv\u001b[39m\u001b[38;5;124m'\u001b[39m)\n",
      "File \u001b[1;32mc:\\Users\\davsu\\anaconda3\\envs\\LPenv\\Lib\\site-packages\\pandas\\io\\parsers\\readers.py:1026\u001b[0m, in \u001b[0;36mread_csv\u001b[1;34m(filepath_or_buffer, sep, delimiter, header, names, index_col, usecols, dtype, engine, converters, true_values, false_values, skipinitialspace, skiprows, skipfooter, nrows, na_values, keep_default_na, na_filter, verbose, skip_blank_lines, parse_dates, infer_datetime_format, keep_date_col, date_parser, date_format, dayfirst, cache_dates, iterator, chunksize, compression, thousands, decimal, lineterminator, quotechar, quoting, doublequote, escapechar, comment, encoding, encoding_errors, dialect, on_bad_lines, delim_whitespace, low_memory, memory_map, float_precision, storage_options, dtype_backend)\u001b[0m\n\u001b[0;32m   1013\u001b[0m kwds_defaults \u001b[38;5;241m=\u001b[39m _refine_defaults_read(\n\u001b[0;32m   1014\u001b[0m     dialect,\n\u001b[0;32m   1015\u001b[0m     delimiter,\n\u001b[1;32m   (...)\u001b[0m\n\u001b[0;32m   1022\u001b[0m     dtype_backend\u001b[38;5;241m=\u001b[39mdtype_backend,\n\u001b[0;32m   1023\u001b[0m )\n\u001b[0;32m   1024\u001b[0m kwds\u001b[38;5;241m.\u001b[39mupdate(kwds_defaults)\n\u001b[1;32m-> 1026\u001b[0m \u001b[38;5;28;01mreturn\u001b[39;00m _read(filepath_or_buffer, kwds)\n",
      "File \u001b[1;32mc:\\Users\\davsu\\anaconda3\\envs\\LPenv\\Lib\\site-packages\\pandas\\io\\parsers\\readers.py:626\u001b[0m, in \u001b[0;36m_read\u001b[1;34m(filepath_or_buffer, kwds)\u001b[0m\n\u001b[0;32m    623\u001b[0m     \u001b[38;5;28;01mreturn\u001b[39;00m parser\n\u001b[0;32m    625\u001b[0m \u001b[38;5;28;01mwith\u001b[39;00m parser:\n\u001b[1;32m--> 626\u001b[0m     \u001b[38;5;28;01mreturn\u001b[39;00m parser\u001b[38;5;241m.\u001b[39mread(nrows)\n",
      "File \u001b[1;32mc:\\Users\\davsu\\anaconda3\\envs\\LPenv\\Lib\\site-packages\\pandas\\io\\parsers\\readers.py:1923\u001b[0m, in \u001b[0;36mTextFileReader.read\u001b[1;34m(self, nrows)\u001b[0m\n\u001b[0;32m   1916\u001b[0m nrows \u001b[38;5;241m=\u001b[39m validate_integer(\u001b[38;5;124m\"\u001b[39m\u001b[38;5;124mnrows\u001b[39m\u001b[38;5;124m\"\u001b[39m, nrows)\n\u001b[0;32m   1917\u001b[0m \u001b[38;5;28;01mtry\u001b[39;00m:\n\u001b[0;32m   1918\u001b[0m     \u001b[38;5;66;03m# error: \"ParserBase\" has no attribute \"read\"\u001b[39;00m\n\u001b[0;32m   1919\u001b[0m     (\n\u001b[0;32m   1920\u001b[0m         index,\n\u001b[0;32m   1921\u001b[0m         columns,\n\u001b[0;32m   1922\u001b[0m         col_dict,\n\u001b[1;32m-> 1923\u001b[0m     ) \u001b[38;5;241m=\u001b[39m \u001b[38;5;28mself\u001b[39m\u001b[38;5;241m.\u001b[39m_engine\u001b[38;5;241m.\u001b[39mread(  \u001b[38;5;66;03m# type: ignore[attr-defined]\u001b[39;00m\n\u001b[0;32m   1924\u001b[0m         nrows\n\u001b[0;32m   1925\u001b[0m     )\n\u001b[0;32m   1926\u001b[0m \u001b[38;5;28;01mexcept\u001b[39;00m \u001b[38;5;167;01mException\u001b[39;00m:\n\u001b[0;32m   1927\u001b[0m     \u001b[38;5;28mself\u001b[39m\u001b[38;5;241m.\u001b[39mclose()\n",
      "File \u001b[1;32mc:\\Users\\davsu\\anaconda3\\envs\\LPenv\\Lib\\site-packages\\pandas\\io\\parsers\\c_parser_wrapper.py:234\u001b[0m, in \u001b[0;36mCParserWrapper.read\u001b[1;34m(self, nrows)\u001b[0m\n\u001b[0;32m    232\u001b[0m \u001b[38;5;28;01mtry\u001b[39;00m:\n\u001b[0;32m    233\u001b[0m     \u001b[38;5;28;01mif\u001b[39;00m \u001b[38;5;28mself\u001b[39m\u001b[38;5;241m.\u001b[39mlow_memory:\n\u001b[1;32m--> 234\u001b[0m         chunks \u001b[38;5;241m=\u001b[39m \u001b[38;5;28mself\u001b[39m\u001b[38;5;241m.\u001b[39m_reader\u001b[38;5;241m.\u001b[39mread_low_memory(nrows)\n\u001b[0;32m    235\u001b[0m         \u001b[38;5;66;03m# destructive to chunks\u001b[39;00m\n\u001b[0;32m    236\u001b[0m         data \u001b[38;5;241m=\u001b[39m _concatenate_chunks(chunks)\n",
      "File \u001b[1;32mparsers.pyx:838\u001b[0m, in \u001b[0;36mpandas._libs.parsers.TextReader.read_low_memory\u001b[1;34m()\u001b[0m\n",
      "File \u001b[1;32mparsers.pyx:905\u001b[0m, in \u001b[0;36mpandas._libs.parsers.TextReader._read_rows\u001b[1;34m()\u001b[0m\n",
      "File \u001b[1;32mparsers.pyx:874\u001b[0m, in \u001b[0;36mpandas._libs.parsers.TextReader._tokenize_rows\u001b[1;34m()\u001b[0m\n",
      "File \u001b[1;32mparsers.pyx:891\u001b[0m, in \u001b[0;36mpandas._libs.parsers.TextReader._check_tokenize_status\u001b[1;34m()\u001b[0m\n",
      "File \u001b[1;32mparsers.pyx:2061\u001b[0m, in \u001b[0;36mpandas._libs.parsers.raise_parser_error\u001b[1;34m()\u001b[0m\n",
      "\u001b[1;31mParserError\u001b[0m: Error tokenizing data. C error: Expected 5 fields in line 102, saw 6\n"
     ]
    }
   ],
   "source": [
    "df_plane_crashes = pd.read_csv('plane_crashes.csv')\n"
   ]
  },
  {
   "cell_type": "code",
   "execution_count": 34,
   "metadata": {},
   "outputs": [],
   "source": [
    "\n",
    "key = kf.getKey()\n",
    "openai.api_key = key\n",
    "\n",
    "prompt = \"necesito \"\n"
   ]
  },
  {
   "cell_type": "markdown",
   "metadata": {},
   "source": []
  }
 ],
 "metadata": {
  "kernelspec": {
   "display_name": "LPenv",
   "language": "python",
   "name": "python3"
  },
  "language_info": {
   "codemirror_mode": {
    "name": "ipython",
    "version": 3
   },
   "file_extension": ".py",
   "mimetype": "text/x-python",
   "name": "python",
   "nbconvert_exporter": "python",
   "pygments_lexer": "ipython3",
   "version": "3.12.8"
  }
 },
 "nbformat": 4,
 "nbformat_minor": 2
}
